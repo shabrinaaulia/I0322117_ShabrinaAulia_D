{
 "cells": [
  {
   "cell_type": "code",
   "execution_count": 1,
   "metadata": {},
   "outputs": [
    {
     "name": "stdout",
     "output_type": "stream",
     "text": [
      "Shabrina Aulia Nisa\n",
      "I0322117\n",
      "D\n"
     ]
    }
   ],
   "source": [
    "print(input(\"Nama: \"))\n",
    "print(input(\"NIM: \"))\n",
    "print(input(\"Kelas: \"))"
   ]
  },
  {
   "attachments": {},
   "cell_type": "markdown",
   "metadata": {},
   "source": [
    "## 1."
   ]
  },
  {
   "attachments": {},
   "cell_type": "markdown",
   "metadata": {},
   "source": [
    "diketahui dimensi sebuah aquarium tanpa penutup atas sebagai berikut:\n",
    "\n",
    "```python\n",
    "p = 11\n",
    "l = 1.99\n",
    "t = 25.87\n",
    "```\n",
    "buatkan program sederhana untuk menghitung diagonal tiap sisi dan luas permukaan aquarium tersebut tanpa menggunakan module math."
   ]
  },
  {
   "cell_type": "code",
   "execution_count": 18,
   "metadata": {},
   "outputs": [
    {
     "name": "stdout",
     "output_type": "stream",
     "text": [
      "Jawaban nomor 1\n",
      "Untuk membuat program sederhana menghitung diagonal tiap sisi dan luas permukaan aquarium\n",
      "Dibawah ini adalah progrram yang telah saya buat\n",
      "=============================================\n",
      "Penyelesaian diagonal tiap sisi aquarium\n",
      " i. Diagonal Alas\n",
      "    = (p² + 1²)^1/2\n",
      "    = (11² + 1.99²)^1/2\n",
      "    = 4.898979485566356\n",
      "\n",
      " ii. Diagonal sisi depan dan sisi belakang\n",
      "    = (p² + t²)^1/2\n",
      "    = (11² + 25.87²)^1/2\n",
      "    = 8.587199776411401\n",
      "\n",
      " iii. Diagonal sisi kanandan sisi kiri\n",
      "     = (1² + t²)^1/2\n",
      "     = (1.99² + 25.87²)^1/2\n",
      "     = 7.330757123244502\n",
      "\n",
      "Luas permukaan aquarium\n",
      "  LuPer = (2*p*t) + (2*1*t) + (p*1)\n",
      "        = (2*11*25.87) + (2*1.99*25.87) + (11*1.99)\n",
      "        = 569.14 + 102.96260000000001 + 11\n",
      "        = 683.1025999999999\n",
      "Thanks You\n"
     ]
    }
   ],
   "source": [
    "#Menghitung Diagonal Tiap Sisi Aquarium\n",
    "\n",
    "#menginput variabel\n",
    "p = 11\n",
    "l = 1.99\n",
    "t = 25.87\n",
    "#mengoutput data\n",
    "Diketahui = 'p, l, dan t'\n",
    "p = 11\n",
    "l = 1.99\n",
    "t = 25.87\n",
    "\n",
    "print('Jawaban nomor 1')\n",
    "print('Untuk membuat program sederhana menghitung diagonal tiap sisi dan luas permukaan aquarium')\n",
    "print('Dibawah ini adalah progrram yang telah saya buat')\n",
    "print('=============================================')\n",
    "\n",
    "print('Penyelesaian diagonal tiap sisi aquarium')\n",
    "diag_A = (p*2 + 1*2)**(1/2)\n",
    "diag_DeBe = (p*2 + t*2)**(1/2)\n",
    "diag_KaKi = (1*2 + t*2)**(1/2)\n",
    "\n",
    "print(' i. Diagonal Alas')\n",
    "print('    = (p\\u00b2 + 1\\u00b2)^1/2')\n",
    "print('    = (11\\u00b2 + 1.99\\u00b2)^1/2')\n",
    "print('    =', diag_A)\n",
    "print()\n",
    "print(' ii. Diagonal sisi depan dan sisi belakang')\n",
    "print('    = (p\\u00b2 + t\\u00b2)^1/2')\n",
    "print('    = (11\\u00b2 + 25.87\\u00b2)^1/2')\n",
    "print('    =', diag_DeBe)\n",
    "print()\n",
    "print(' iii. Diagonal sisi kanan dan sisi kiri')\n",
    "print('     = (1\\u00b2 + t\\u00b2)^1/2')\n",
    "print('     = (1.99\\u00b2 + 25.87\\u00b2)^1/2')\n",
    "print('     =', diag_KaKi)\n",
    "print()\n",
    "\n",
    "print('Luas permukaan aquarium')\n",
    "alas  = p * 1\n",
    "debe  = 2 * p * t \n",
    "kaki  = 2 * l * t\n",
    "luper = alas + debe + kaki\n",
    "print('  LuPer =', '(2*p*t)', '+', '(2*1*t)', '+', '(p*1)')\n",
    "print('        =', '(2*11*25.87)', '+', '(2*1.99*25.87)', '+', '(11*1.99)')\n",
    "print('        =', debe, '+', kaki, '+', alas)\n",
    "print('        =', luper)\n",
    "\n",
    "\n",
    "print('Thanks You')"
   ]
  },
  {
   "attachments": {},
   "cell_type": "markdown",
   "metadata": {},
   "source": [
    "## 2."
   ]
  },
  {
   "attachments": {},
   "cell_type": "markdown",
   "metadata": {},
   "source": [
    "diberikan data nilai mahasiswa sebagai berikut:"
   ]
  },
  {
   "cell_type": "code",
   "execution_count": 8,
   "metadata": {},
   "outputs": [
    {
     "name": "stdout",
     "output_type": "stream",
     "text": [
      "Jawaban nomor 2\n",
      "Perintah untuk membuat program menghitung nilai rata-rata mahasiswa serta\n",
      "mencari nilai tertinggi dan terendahnya\n",
      "Dibawah ini adalah program yang saya buat\n",
      "============================\n",
      "Nilai rata-rata dari mahasiswa adalah= 80\n",
      "Nilai tertinggi mahasiswa adalah = 90\n",
      "Nilai terendah mahasiswa adalah = 70\n"
     ]
    }
   ],
   "source": [
    "#menginput data\n",
    "nilai = {\n",
    "    'Frank': 80,\n",
    "    'Abagnale': 75,\n",
    "    'Cobb': 90,\n",
    "    'Andy Dufresne': 85,\n",
    "    'Ariadne': 70\n",
    "}\n",
    "\n",
    "print('Jawaban nomor 2')\n",
    "print('Perintah untuk membuat program menghitung nilai rata-rata mahasiswa serta')\n",
    "print('mencari nilai tertinggi dan terendahnya')\n",
    "print('Dibawah ini adalah program yang saya buat')\n",
    "print('============================')\n",
    "\n",
    "import statistics\n",
    "\n",
    "nilai_mahasiswa = list(nilai.values())\n",
    "rata_rata       = statistics.mean(nilai_mahasiswa)\n",
    "print('Nilai rata-rata dari mahasiswa adalah=', rata_rata)\n",
    "\n",
    "nilai_maksimal  = max(nilai_mahasiswa)\n",
    "print('Nilai tertinggi mahasiswa adalah =', nilai_maksimal)\n",
    "nilai_minimal   = min(nilai_mahasiswa)\n",
    "print('Nilai terendah mahasiswa adalah =', nilai_minimal)"
   ]
  },
  {
   "attachments": {},
   "cell_type": "markdown",
   "metadata": {},
   "source": [
    "buatlah program sederhana untuk menghitung nilai rata-rata semua mahasiswa dan mencari siapa yang mendapatkan nilai tertinggi dan nilai terendah. \n",
    "> *note: tidak perlu menggunakan loops untuk membuat program nya*"
   ]
  },
  {
   "attachments": {},
   "cell_type": "markdown",
   "metadata": {},
   "source": [
    "## 3. "
   ]
  },
  {
   "attachments": {},
   "cell_type": "markdown",
   "metadata": {},
   "source": [
    "diberikan list aslab sebagai berikut:\n",
    "```python\n",
    "list_aslab = [\n",
    "    {\"nama\": \"Berlian Safri Prakoso\", \"nim\": \"I0320017\", \"kontak\": \"0858XXXXXXXX\"},\n",
    "    {\"nama\": \"Halidya Siti Hanifah\", \"nim\": \"I0320044\", \"kontak\": \"0878XXXXXXXX\"},\n",
    "    {\"nama\": \"Nurki Putra Mahardika\", \"nim\": \"I0320076\", \"kontak\": \"0877XXXXXXXX\"},\n",
    "    {\"nama\": \"Aji Manarul Aziz\", \"nim\": \"I0320119\", \"kontak\": \"0812XXXXXXXX\"},\n",
    "    {\"nama\": \"Alica Ayu Fitriani\", \"nim\": \"I0320121\", \"kontak\": \"0896XXXXXXXX\"},\n",
    "    {\"nama\": \"Dendy Halim Kusuma\", \"nim\": \"I0320125\", \"kontak\": \"0822XXXXXXXX\"}\n",
    "]\n",
    "```\n",
    "* **A** Tuliskan kode untuk mengakses informasi tentang \"nama\" dari semua aslab mulai dari index 1 sampai 5\n",
    "* **B** Tambahkan informasi berikut pada data aslab:\n",
    "```python\n",
    "    surel = [\"berlian@student.uns.ac.id\",\n",
    "          \"halidya@student.uns.ac.id\",\n",
    "          \"nurki@student.uns.ac.id\",\n",
    "          \"manarul@student.uns.ac.id\",\n",
    "          \"alica@student.uns.ac.id\",\n",
    "          \"dendy@student.uns.ac.id\"]\n",
    "```\n",
    "> *note: kalian hanya boleh menggunakan key-value pair yang disebutkan di dalam teks, tanpa menggunakan informasi tambahan yang diambil pada list yang ada*"
   ]
  },
  {
   "cell_type": "code",
   "execution_count": 15,
   "metadata": {},
   "outputs": [
    {
     "name": "stdout",
     "output_type": "stream",
     "text": [
      "Jawaban nomor 3 A\n",
      "Perintah untuk membuat program kode untuk mengakses informasi nama aslab dari indeks 1 sampai 5\n",
      "Dibawah ini adalah program yang saya buat\n",
      "============================\n",
      "Asisten Laboratorium POSI ke 2 sebagai berikut, {'nama': 'Halidya Siti Hanifah', 'nim': 'I0320044', 'kontak': '0878XXXXXXXX'}\n",
      "Asisten Laboratorium POSI ke 3 sebagai berikut, {'nama': 'Halidya Siti Hanifah', 'nim': 'I0320044', 'kontak': '0878XXXXXXXX'}\n",
      "Asisten Laboratorium POSI ke 4 sebagai berikut, {'nama': 'Halidya Siti Hanifah', 'nim': 'I0320044', 'kontak': '0878XXXXXXXX'}\n",
      "Asisten Laboratorium POSI ke 5 sebagai berikut, {'nama': 'Halidya Siti Hanifah', 'nim': 'I0320044', 'kontak': '0878XXXXXXXX'}\n",
      "Asisten Laboratorium POSI ke 6 sebagai berikut, {'nama': 'Halidya Siti Hanifah', 'nim': 'I0320044', 'kontak': '0878XXXXXXXX'}\n"
     ]
    }
   ],
   "source": [
    "#menginput data\n",
    "list_aslab = [\n",
    "    {\"nama\": \"Berlian Safri Prakoso\", \"nim\": \"I0320017\", \"kontak\": \"0858XXXXXXXX\"},\n",
    "    {\"nama\": \"Halidya Siti Hanifah\", \"nim\": \"I0320044\", \"kontak\": \"0878XXXXXXXX\"},\n",
    "    {\"nama\": \"Nurki Putra Mahardika\", \"nim\": \"I0320076\", \"kontak\": \"0877XXXXXXXX\"},\n",
    "    {\"nama\": \"Aji Manarul Aziz\", \"nim\": \"I0320119\", \"kontak\": \"0812XXXXXXXX\"},\n",
    "    {\"nama\": \"Alica Ayu Fitriani\", \"nim\": \"I0320121\", \"kontak\": \"0896XXXXXXXX\"},\n",
    "    {\"nama\": \"Dendy Halim Kusuma\", \"nim\": \"I0320125\", \"kontak\": \"0822XXXXXXXX\"}\n",
    "]\n",
    "#mengoutput data\n",
    "print('Jawaban nomor 3 A')\n",
    "print('Perintah untuk membuat program kode untuk mengakses informasi nama aslab dari indeks 1 sampai 5')\n",
    "print('Dibawah ini adalah program yang saya buat')\n",
    "print('============================')\n",
    "\n",
    "for i in range (1,len(list_aslab)) :\n",
    "    print(\"Asisten Laboratorium POSI ke\", i+1, \"sebagai berikut,\",list_aslab[1])"
   ]
  },
  {
   "cell_type": "code",
   "execution_count": 17,
   "metadata": {},
   "outputs": [
    {
     "name": "stdout",
     "output_type": "stream",
     "text": [
      "Jawaban nomor 3 B\n",
      "Perintah untuk menambahkan informasi surel\n",
      "Dibawah ini adalah program yang saya buat\n",
      "============================\n",
      "Asisten Laboratorium POSI ke 1 sebagai berikut, {'nama': 'Halidya Siti Hanifah', 'nim': 'I0320044', 'kontak': '0878XXXXXXXX', 'Informasi tambahan': 'halidya@student.uns.ac.id'}\n",
      "Asisten Laboratorium POSI ke 2 sebagai berikut, {'nama': 'Halidya Siti Hanifah', 'nim': 'I0320044', 'kontak': '0878XXXXXXXX', 'Informasi tambahan': 'halidya@student.uns.ac.id'}\n",
      "Asisten Laboratorium POSI ke 3 sebagai berikut, {'nama': 'Halidya Siti Hanifah', 'nim': 'I0320044', 'kontak': '0878XXXXXXXX', 'Informasi tambahan': 'halidya@student.uns.ac.id'}\n",
      "Asisten Laboratorium POSI ke 4 sebagai berikut, {'nama': 'Halidya Siti Hanifah', 'nim': 'I0320044', 'kontak': '0878XXXXXXXX', 'Informasi tambahan': 'halidya@student.uns.ac.id'}\n",
      "Asisten Laboratorium POSI ke 5 sebagai berikut, {'nama': 'Halidya Siti Hanifah', 'nim': 'I0320044', 'kontak': '0878XXXXXXXX', 'Informasi tambahan': 'halidya@student.uns.ac.id'}\n",
      "Asisten Laboratorium POSI ke 6 sebagai berikut, {'nama': 'Halidya Siti Hanifah', 'nim': 'I0320044', 'kontak': '0878XXXXXXXX', 'Informasi tambahan': 'halidya@student.uns.ac.id'}\n"
     ]
    }
   ],
   "source": [
    "#menginput data\n",
    "list_aslab = [\n",
    "    {\"nama\": \"Berlian Safri Prakoso\", \"nim\": \"I0320017\", \"kontak\": \"0858XXXXXXXX\"},\n",
    "    {\"nama\": \"Halidya Siti Hanifah\", \"nim\": \"I0320044\", \"kontak\": \"0878XXXXXXXX\"},\n",
    "    {\"nama\": \"Nurki Putra Mahardika\", \"nim\": \"I0320076\", \"kontak\": \"0877XXXXXXXX\"},\n",
    "    {\"nama\": \"Aji Manarul Aziz\", \"nim\": \"I0320119\", \"kontak\": \"0812XXXXXXXX\"},\n",
    "    {\"nama\": \"Alica Ayu Fitriani\", \"nim\": \"I0320121\", \"kontak\": \"0896XXXXXXXX\"},\n",
    "    {\"nama\": \"Dendy Halim Kusuma\", \"nim\": \"I0320125\", \"kontak\": \"0822XXXXXXXX\"}\n",
    "]\n",
    "\n",
    "surel = [\"berlian@student.uns.ac.id\",\n",
    "          \"halidya@student.uns.ac.id\",\n",
    "          \"nurki@student.uns.ac.id\",\n",
    "          \"manarul@student.uns.ac.id\",\n",
    "          \"alica@student.uns.ac.id\",\n",
    "          \"dendy@student.uns.ac.id\"]\n",
    "#mengoutput data\n",
    "print('Jawaban nomor 3 B')\n",
    "print('Perintah untuk menambahkan informasi surel')\n",
    "print('Dibawah ini adalah program yang saya buat')\n",
    "print('============================')\n",
    "\n",
    "for i in range (0,len(list_aslab)) :\n",
    "    list_aslab[1].update({\"Informasi tambahan\": surel [1]})\n",
    "    print(\"Asisten Laboratorium POSI ke\", i+1, \"sebagai berikut,\",list_aslab[1])\n"
   ]
  }
 ],
 "metadata": {
  "kernelspec": {
   "display_name": "Python 3",
   "language": "python",
   "name": "python3"
  },
  "language_info": {
   "codemirror_mode": {
    "name": "ipython",
    "version": 3
   },
   "file_extension": ".py",
   "mimetype": "text/x-python",
   "name": "python",
   "nbconvert_exporter": "python",
   "pygments_lexer": "ipython3",
   "version": "3.10.7"
  },
  "orig_nbformat": 4,
  "vscode": {
   "interpreter": {
    "hash": "5addf786bcd861d1ce5006f23111f8cbb206731e5b61b0a5632ba9e0252558a8"
   }
  }
 },
 "nbformat": 4,
 "nbformat_minor": 2
}
